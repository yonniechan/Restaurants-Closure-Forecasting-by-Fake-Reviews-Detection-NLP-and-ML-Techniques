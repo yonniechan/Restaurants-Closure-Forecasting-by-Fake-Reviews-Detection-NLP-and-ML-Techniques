{
 "cells": [
  {
   "cell_type": "code",
   "execution_count": 1,
   "metadata": {},
   "outputs": [],
   "source": [
    "import pandas as pd\n",
    "import json\n",
    "import nltk\n",
    "import re\n",
    "from nltk.corpus import stopwords\n",
    "from nltk.stem import PorterStemmer, WordNetLemmatizer\n",
    "from textblob import TextBlob\n",
    "import string"
   ]
  },
  {
   "cell_type": "code",
   "execution_count": 2,
   "metadata": {},
   "outputs": [],
   "source": [
    "data_file = open(\"data/yelp_academic_dataset_review.json\", encoding = \"utf8\")\n",
    "reviews_data = []\n",
    "c = 0\n",
    "for line in data_file:\n",
    "    reviews_data.append(json.loads(line))\n",
    "    c+=1\n",
    "    if c == 1000000:\n",
    "        break\n",
    "\n",
    "reviews_df = pd.DataFrame(reviews_data)\n",
    "\n",
    "data_file.close()"
   ]
  },
  {
   "cell_type": "code",
   "execution_count": 3,
   "metadata": {},
   "outputs": [],
   "source": [
    "data_file = open(\"data/yelp_academic_dataset_business.json\", encoding = \"utf8\")\n",
    "business_data = []\n",
    "for line in data_file:\n",
    "    business_data.append(json.loads(line))\n",
    "\n",
    "business_df = pd.DataFrame(business_data)\n",
    "\n",
    "data_file.close()"
   ]
  },
  {
   "cell_type": "code",
   "execution_count": 4,
   "metadata": {},
   "outputs": [],
   "source": [
    "# reviews_df.sort_values('date')"
   ]
  },
  {
   "cell_type": "code",
   "execution_count": 5,
   "metadata": {},
   "outputs": [],
   "source": [
    "# Filter out reviews for restaurants not in PA \n",
    "business_list = business_df[business_df['state']=='PA']['business_id']\n",
    "df = reviews_df[reviews_df['business_id'].isin(business_list)]"
   ]
  },
  {
   "cell_type": "code",
   "execution_count": 6,
   "metadata": {},
   "outputs": [
    {
     "name": "stderr",
     "output_type": "stream",
     "text": [
      "/var/folders/ph/709k81096ysfhdprrztggzfr0000gn/T/ipykernel_30731/789486673.py:3: SettingWithCopyWarning: \n",
      "A value is trying to be set on a copy of a slice from a DataFrame.\n",
      "Try using .loc[row_indexer,col_indexer] = value instead\n",
      "\n",
      "See the caveats in the documentation: https://pandas.pydata.org/pandas-docs/stable/user_guide/indexing.html#returning-a-view-versus-a-copy\n",
      "  df['date'] =  pd.to_datetime(df['date'], format='%Y-%m-%d %H:%M:%S')\n",
      "/var/folders/ph/709k81096ysfhdprrztggzfr0000gn/T/ipykernel_30731/789486673.py:5: SettingWithCopyWarning: \n",
      "A value is trying to be set on a copy of a slice from a DataFrame.\n",
      "Try using .loc[row_indexer,col_indexer] = value instead\n",
      "\n",
      "See the caveats in the documentation: https://pandas.pydata.org/pandas-docs/stable/user_guide/indexing.html#returning-a-view-versus-a-copy\n",
      "  df['year'] = pd.DatetimeIndex(df['date']).year\n",
      "/var/folders/ph/709k81096ysfhdprrztggzfr0000gn/T/ipykernel_30731/789486673.py:6: SettingWithCopyWarning: \n",
      "A value is trying to be set on a copy of a slice from a DataFrame.\n",
      "Try using .loc[row_indexer,col_indexer] = value instead\n",
      "\n",
      "See the caveats in the documentation: https://pandas.pydata.org/pandas-docs/stable/user_guide/indexing.html#returning-a-view-versus-a-copy\n",
      "  df['month'] = pd.DatetimeIndex(df['date']).month\n",
      "/var/folders/ph/709k81096ysfhdprrztggzfr0000gn/T/ipykernel_30731/789486673.py:7: SettingWithCopyWarning: \n",
      "A value is trying to be set on a copy of a slice from a DataFrame.\n",
      "Try using .loc[row_indexer,col_indexer] = value instead\n",
      "\n",
      "See the caveats in the documentation: https://pandas.pydata.org/pandas-docs/stable/user_guide/indexing.html#returning-a-view-versus-a-copy\n",
      "  df['day'] = pd.DatetimeIndex(df['date']).day\n",
      "/var/folders/ph/709k81096ysfhdprrztggzfr0000gn/T/ipykernel_30731/789486673.py:8: SettingWithCopyWarning: \n",
      "A value is trying to be set on a copy of a slice from a DataFrame.\n",
      "Try using .loc[row_indexer,col_indexer] = value instead\n",
      "\n",
      "See the caveats in the documentation: https://pandas.pydata.org/pandas-docs/stable/user_guide/indexing.html#returning-a-view-versus-a-copy\n",
      "  df['hour'] = pd.DatetimeIndex(df['date']).hour\n",
      "/var/folders/ph/709k81096ysfhdprrztggzfr0000gn/T/ipykernel_30731/789486673.py:9: SettingWithCopyWarning: \n",
      "A value is trying to be set on a copy of a slice from a DataFrame.\n",
      "Try using .loc[row_indexer,col_indexer] = value instead\n",
      "\n",
      "See the caveats in the documentation: https://pandas.pydata.org/pandas-docs/stable/user_guide/indexing.html#returning-a-view-versus-a-copy\n",
      "  df['min'] = pd.DatetimeIndex(df['date']).minute\n",
      "/var/folders/ph/709k81096ysfhdprrztggzfr0000gn/T/ipykernel_30731/789486673.py:10: SettingWithCopyWarning: \n",
      "A value is trying to be set on a copy of a slice from a DataFrame.\n",
      "Try using .loc[row_indexer,col_indexer] = value instead\n",
      "\n",
      "See the caveats in the documentation: https://pandas.pydata.org/pandas-docs/stable/user_guide/indexing.html#returning-a-view-versus-a-copy\n",
      "  df['sec'] = pd.DatetimeIndex(df['date']).second\n"
     ]
    }
   ],
   "source": [
    "def split_time_to_feature(df):\n",
    "\n",
    "    df['date'] =  pd.to_datetime(df['date'], format='%Y-%m-%d %H:%M:%S')\n",
    "    \n",
    "    df['year'] = pd.DatetimeIndex(df['date']).year\n",
    "    df['month'] = pd.DatetimeIndex(df['date']).month\n",
    "    df['day'] = pd.DatetimeIndex(df['date']).day\n",
    "    df['hour'] = pd.DatetimeIndex(df['date']).hour\n",
    "    df['min'] = pd.DatetimeIndex(df['date']).minute\n",
    "    df['sec'] = pd.DatetimeIndex(df['date']).second\n",
    "\n",
    "split_time_to_feature(df)"
   ]
  },
  {
   "cell_type": "code",
   "execution_count": 7,
   "metadata": {},
   "outputs": [],
   "source": [
    "# Extract reivews left in 2000-2018\n",
    "df = df.loc[(df['year'] >= 2000) & (df['year'] <= 2018)]"
   ]
  },
  {
   "cell_type": "markdown",
   "metadata": {},
   "source": [
    "### Feature engineering"
   ]
  },
  {
   "cell_type": "code",
   "execution_count": 8,
   "metadata": {},
   "outputs": [
    {
     "name": "stderr",
     "output_type": "stream",
     "text": [
      "/var/folders/ph/709k81096ysfhdprrztggzfr0000gn/T/ipykernel_30731/1576461174.py:2: SettingWithCopyWarning: \n",
      "A value is trying to be set on a copy of a slice from a DataFrame.\n",
      "Try using .loc[row_indexer,col_indexer] = value instead\n",
      "\n",
      "See the caveats in the documentation: https://pandas.pydata.org/pandas-docs/stable/user_guide/indexing.html#returning-a-view-versus-a-copy\n",
      "  df['length_of_reviews'] = df['text'].apply(len)\n"
     ]
    }
   ],
   "source": [
    "# Creating a new column in the dataset for the length of the reviews\n",
    "df['length_of_reviews'] = df['text'].apply(len)"
   ]
  },
  {
   "cell_type": "code",
   "execution_count": 9,
   "metadata": {},
   "outputs": [
    {
     "name": "stderr",
     "output_type": "stream",
     "text": [
      "/var/folders/ph/709k81096ysfhdprrztggzfr0000gn/T/ipykernel_30731/1114910945.py:2: SettingWithCopyWarning: \n",
      "A value is trying to be set on a copy of a slice from a DataFrame.\n",
      "Try using .loc[row_indexer,col_indexer] = value instead\n",
      "\n",
      "See the caveats in the documentation: https://pandas.pydata.org/pandas-docs/stable/user_guide/indexing.html#returning-a-view-versus-a-copy\n",
      "  df['num_of_words'] = df['text'].apply(lambda str:len(nltk.word_tokenize(str)))\n"
     ]
    }
   ],
   "source": [
    "# Creating a new column in the dataset for the number of words in the reviews\n",
    "df['num_of_words'] = df['text'].apply(lambda str:len(nltk.word_tokenize(str)))"
   ]
  },
  {
   "cell_type": "code",
   "execution_count": 10,
   "metadata": {},
   "outputs": [
    {
     "name": "stderr",
     "output_type": "stream",
     "text": [
      "/var/folders/ph/709k81096ysfhdprrztggzfr0000gn/T/ipykernel_30731/1147211261.py:2: SettingWithCopyWarning: \n",
      "A value is trying to be set on a copy of a slice from a DataFrame.\n",
      "Try using .loc[row_indexer,col_indexer] = value instead\n",
      "\n",
      "See the caveats in the documentation: https://pandas.pydata.org/pandas-docs/stable/user_guide/indexing.html#returning-a-view-versus-a-copy\n",
      "  df['num_of_sentences'] = df['text'].apply(lambda paragraph:len(nltk.sent_tokenize(paragraph)))\n"
     ]
    }
   ],
   "source": [
    "# Creating a new column in the dataset for the number of sentences in the reviews\n",
    "df['num_of_sentences'] = df['text'].apply(lambda paragraph:len(nltk.sent_tokenize(paragraph)))"
   ]
  },
  {
   "cell_type": "code",
   "execution_count": 11,
   "metadata": {},
   "outputs": [
    {
     "name": "stderr",
     "output_type": "stream",
     "text": [
      "/var/folders/ph/709k81096ysfhdprrztggzfr0000gn/T/ipykernel_30731/1550109840.py:1: SettingWithCopyWarning: \n",
      "A value is trying to be set on a copy of a slice from a DataFrame.\n",
      "Try using .loc[row_indexer,col_indexer] = value instead\n",
      "\n",
      "See the caveats in the documentation: https://pandas.pydata.org/pandas-docs/stable/user_guide/indexing.html#returning-a-view-versus-a-copy\n",
      "  df['capital_words'] = df['text'].apply(lambda sen:len(re.findall(r'\\b[A-Z]+\\b', sen)))\n",
      "/var/folders/ph/709k81096ysfhdprrztggzfr0000gn/T/ipykernel_30731/1550109840.py:2: SettingWithCopyWarning: \n",
      "A value is trying to be set on a copy of a slice from a DataFrame.\n",
      "Try using .loc[row_indexer,col_indexer] = value instead\n",
      "\n",
      "See the caveats in the documentation: https://pandas.pydata.org/pandas-docs/stable/user_guide/indexing.html#returning-a-view-versus-a-copy\n",
      "  df['capital_words_ratio'] = df['capital_words']/df['num_of_words']\n",
      "/var/folders/ph/709k81096ysfhdprrztggzfr0000gn/T/ipykernel_30731/1550109840.py:3: SettingWithCopyWarning: \n",
      "A value is trying to be set on a copy of a slice from a DataFrame\n",
      "\n",
      "See the caveats in the documentation: https://pandas.pydata.org/pandas-docs/stable/user_guide/indexing.html#returning-a-view-versus-a-copy\n",
      "  df.drop(columns='capital_words', inplace = True)\n"
     ]
    }
   ],
   "source": [
    "df['capital_words'] = df['text'].apply(lambda sen:len(re.findall(r'\\b[A-Z]+\\b', sen)))\n",
    "df['capital_words_ratio'] = df['capital_words']/df['num_of_words']\n",
    "df.drop(columns='capital_words', inplace = True)"
   ]
  },
  {
   "cell_type": "markdown",
   "metadata": {},
   "source": [
    "### Dealing with texts in reviews"
   ]
  },
  {
   "cell_type": "code",
   "execution_count": 12,
   "metadata": {},
   "outputs": [],
   "source": [
    "# Cleaning the reviews - stemed, remove stopwords and punctuation\n",
    "def clean_text(text):\n",
    "\n",
    "    ## Remove puncuation\n",
    "    nopunc = [char for char in text if char not in string.punctuation]\n",
    "    nopunc = ''.join(nopunc)\n",
    "    \n",
    "    ## Remove stop words\n",
    "    nostop = [word for word in nopunc.split() if word.lower() not in stopwords.words('english') and len(word) >= 3]\n",
    "    text = ' '.join(nostop)\n",
    "   \n",
    "    # Clean the text\n",
    "    text = re.sub(r\"[^A-Za-z0-9^,!.\\/'+-=]\", \" \", text)\n",
    "    text = re.sub(r\"what's\", \"what is \", text)\n",
    "    text = re.sub(r\"\\'s\", \" \", text)\n",
    "    text = re.sub(r\"\\'ve\", \" have \", text)\n",
    "    text = re.sub(r\"n't\", \" not \", text)\n",
    "    text = re.sub(r\"i'm\", \"i am \", text)\n",
    "    text = re.sub(r\"\\'re\", \" are \", text)\n",
    "    text = re.sub(r\"\\'d\", \" would \", text)\n",
    "    text = re.sub(r\"\\'ll\", \" will \", text)\n",
    "    text = re.sub(r\",\", \" \", text)\n",
    "    text = re.sub(r\"\\.\", \" \", text)\n",
    "    text = re.sub(r\"!\", \" ! \", text)\n",
    "    text = re.sub(r\"\\/\", \" \", text)\n",
    "    text = re.sub(r\"\\^\", \" ^ \", text)\n",
    "    text = re.sub(r\"\\+\", \" + \", text)\n",
    "    text = re.sub(r\"\\-\", \" - \", text)\n",
    "    text = re.sub(r\"\\=\", \" = \", text)\n",
    "    text = re.sub(r\"'\", \" \", text)\n",
    "    text = re.sub(r\"(\\d+)(k)\", r\"\\g<1>000\", text)\n",
    "    text = re.sub(r\":\", \" : \", text)\n",
    "    text = re.sub(r\" e g \", \" eg \", text)\n",
    "    text = re.sub(r\" b g \", \" bg \", text)\n",
    "    text = re.sub(r\" u s \", \" american \", text)\n",
    "    text = re.sub(r\"\\0s\", \"0\", text)\n",
    "    text = re.sub(r\" 9 11 \", \"911\", text)\n",
    "    text = re.sub(r\"e - mail\", \"email\", text)\n",
    "    text = re.sub(r\"j k\", \"jk\", text)\n",
    "    text = re.sub(r\"\\s{2,}\", \" \", text)    \n",
    "    \n",
    "    ps = PorterStemmer()\n",
    "    text = ps.stem(text)\n",
    "\n",
    "    lemmatizer = WordNetLemmatizer()\n",
    "    text = lemmatizer.lemmatize(text)\n",
    "\n",
    "    return text\n",
    "\n",
    "df['cleaned_text'] = df['text'].apply(clean_text)"
   ]
  },
  {
   "cell_type": "code",
   "execution_count": 13,
   "metadata": {},
   "outputs": [],
   "source": [
    "# Sentiment analysis using textblob \n",
    "df['sentiment_polarity'] = df['cleaned_text'].apply(lambda w:TextBlob(w).polarity)\n",
    "df['sentiment_subjectivity'] = df['cleaned_text'].apply(lambda w:TextBlob(w).subjectivity)"
   ]
  },
  {
   "cell_type": "code",
   "execution_count": 14,
   "metadata": {},
   "outputs": [],
   "source": [
    "df.to_csv('data/cleaned_review_data.csv')"
   ]
  },
  {
   "cell_type": "code",
   "execution_count": null,
   "metadata": {},
   "outputs": [],
   "source": []
  }
 ],
 "metadata": {
  "kernelspec": {
   "display_name": "Python 3.9.12 ('base')",
   "language": "python",
   "name": "python3"
  },
  "language_info": {
   "codemirror_mode": {
    "name": "ipython",
    "version": 3
   },
   "file_extension": ".py",
   "mimetype": "text/x-python",
   "name": "python",
   "nbconvert_exporter": "python",
   "pygments_lexer": "ipython3",
   "version": "3.9.12"
  },
  "orig_nbformat": 4,
  "vscode": {
   "interpreter": {
    "hash": "d7399c04398ef7ffe93a346b34aea79387e9589ac40b89ce439d1cc4615c19a9"
   }
  }
 },
 "nbformat": 4,
 "nbformat_minor": 2
}
