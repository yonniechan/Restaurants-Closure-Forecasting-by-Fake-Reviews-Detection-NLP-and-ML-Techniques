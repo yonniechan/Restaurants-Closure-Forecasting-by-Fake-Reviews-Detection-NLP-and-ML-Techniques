{
 "cells": [
  {
   "cell_type": "code",
   "execution_count": 1,
   "metadata": {},
   "outputs": [],
   "source": [
    "import pandas as pd\n",
    "import matplotlib.pyplot as plt\n",
    "import seaborn as sns\n",
    "import numpy as np\n",
    "from sklearn.impute import SimpleImputer\n",
    "from sklearn.model_selection import train_test_split\n",
    "from sklearn.linear_model import LogisticRegression\n",
    "from sklearn.neighbors import KNeighborsClassifier\n",
    "from sklearn.tree import DecisionTreeClassifier\n",
    "from sklearn.ensemble import RandomForestClassifier,GradientBoostingClassifier, StackingClassifier\n",
    "import xgboost as xgb\n",
    "from sklearn.model_selection import GridSearchCV\n",
    "from sklearn.metrics import confusion_matrix, classification_report\n",
    "from sklearn.metrics import accuracy_score, f1_score, recall_score, precision_score\n",
    "from sklearn.metrics import plot_roc_curve\n",
    "from sklearn import preprocessing\n",
    "from sklearn.preprocessing import LabelEncoder\n",
    "from sklearn.metrics import confusion_matrix, classification_report\n",
    "import warnings\n",
    "warnings.filterwarnings('ignore')"
   ]
  },
  {
   "cell_type": "markdown",
   "metadata": {},
   "source": [
    "### deal with some left over from preprocessing"
   ]
  },
  {
   "cell_type": "code",
   "execution_count": 7,
   "metadata": {},
   "outputs": [],
   "source": [
    "df = pd.read_csv('data/combined.csv')"
   ]
  },
  {
   "cell_type": "code",
   "execution_count": 8,
   "metadata": {},
   "outputs": [
    {
     "data": {
      "text/plain": [
       "(array([2008, 2009, 2010, 2011, 2012, 2013, 2014, 2015, 2016, 2017, 2018,\n",
       "        2019, 2020, 2021, 2022], dtype=int64),\n",
       " array([   4,   16,   35,   67,   98,  158,  203,  262,  278,  343,  402,\n",
       "         709,  928, 4122, 1189], dtype=int64))"
      ]
     },
     "execution_count": 8,
     "metadata": {},
     "output_type": "execute_result"
    }
   ],
   "source": [
    "np.unique(df.latest_review_year, return_counts=True)"
   ]
  },
  {
   "cell_type": "code",
   "execution_count": 9,
   "metadata": {},
   "outputs": [
    {
     "name": "stdout",
     "output_type": "stream",
     "text": [
      "<class 'pandas.core.frame.DataFrame'>\n",
      "RangeIndex: 8814 entries, 0 to 8813\n",
      "Columns: 719 entries, business_id to Wraps\n",
      "dtypes: float64(10), int64(668), object(41)\n",
      "memory usage: 48.3+ MB\n"
     ]
    }
   ],
   "source": [
    "df.info()"
   ]
  },
  {
   "cell_type": "code",
   "execution_count": 10,
   "metadata": {},
   "outputs": [],
   "source": [
    "le = LabelEncoder()\n",
    "df['name'] = le.fit_transform(df['name'])\n",
    "df['city'] = le.fit_transform(df['city'])\n",
    "df['postal_code'] = le.fit_transform(df['postal_code'])"
   ]
  },
  {
   "cell_type": "code",
   "execution_count": 11,
   "metadata": {},
   "outputs": [],
   "source": [
    "df = df[df['RestaurantsPriceRange2'] != 'None']\n",
    "df['RestaurantsPriceRange2'] = df['RestaurantsPriceRange2'].astype(float)\n",
    "df = df.dropna(subset='RestaurantsPriceRange2')\n",
    "df['RestaurantsPriceRange2'] = df['RestaurantsPriceRange2'].astype(int)"
   ]
  },
  {
   "cell_type": "code",
   "execution_count": 12,
   "metadata": {},
   "outputs": [],
   "source": [
    "## True/False/None datatype issue: 'RestaurantsDelivery', 'BusinessAcceptsCreditCards', 'RestaurantsTakeOut', 'RestaurantsReservations', 'RestaurantsGoodForGroups'\n",
    "true_false_col = ['RestaurantsDelivery', 'BusinessAcceptsCreditCards', 'RestaurantsTakeOut', 'RestaurantsReservations', 'RestaurantsGoodForGroups']\n",
    "\n",
    "def tf_issue(col_li, df):\n",
    "\n",
    "    for col in col_li:\n",
    "        df[col] = df[col].astype('|S')\n",
    "        df[col] = df[col].apply(lambda line: b'False' if line == b'nan' else line)\n",
    "        df[col] = df[col].apply(lambda line: b'False' if line == b'None' else line)\n",
    "        df[col] = LabelEncoder().fit_transform(df[col])\n",
    "        df[col] = df[col].astype(int)\n",
    "\n",
    "tf_issue(true_false_col, df)"
   ]
  },
  {
   "cell_type": "code",
   "execution_count": 13,
   "metadata": {},
   "outputs": [],
   "source": [
    "# Weird u in the string\n",
    "weird_u = ['WiFi', 'Alcohol', 'RestaurantsAttire', 'NoiseLevel', 'Smoking']\n",
    "\n",
    "def u_issue(col_li, df):\n",
    "\n",
    "    for col in col_li:\n",
    "        df[col] = df[col].apply(lambda line: 'none' if type(line) == float else (line.split(\"\\'\")[1].lower() if len(line.split(\"\\'\")) == 3 else line.split(\"\\'\")[0].lower()))\n",
    "        df[col] = LabelEncoder().fit_transform(df[col])\n",
    "        df[col] = df[col].astype(int)\n",
    "\n",
    "u_issue(weird_u, df)"
   ]
  },
  {
   "cell_type": "code",
   "execution_count": 14,
   "metadata": {},
   "outputs": [],
   "source": [
    "# AcceptsInsurance, Open24Hours RestaurantsCounterService, has no useful value\n",
    "# DietaryRestrictions have only 5 records\n",
    "drop_col = ['business_id', 'AcceptsInsurance', 'Open24Hours', 'DietaryRestrictions', 'RestaurantsCounterService', 'Caters', 'HasTV', 'GoodForKids', 'DogsAllowed', \n",
    "            'HappyHour', 'WheelchairAccessible', 'OutdoorSeating', 'BikeParking', 'RestaurantsAttire', 'Ambience', 'Smoking', 'Music', 'GoodForDancing', \n",
    "            'BusinessAcceptsBitcoin', 'CoatCheck', 'BestNights', 'Corkage', 'BYOBCorkage', 'BYOB', 'AgesAllowed', 'ByAppointmentOnly', 'RestaurantsTableService',\n",
    "            'DriveThru', 'BusinessParking', 'GoodForMeal']\n",
    "\n",
    "df.drop(columns = drop_col, inplace=True)"
   ]
  },
  {
   "cell_type": "code",
   "execution_count": 15,
   "metadata": {},
   "outputs": [],
   "source": [
    "# delete columns only with one unique values\n",
    "del_col = []\n",
    "\n",
    "for i in df.columns:\n",
    "    if df[i].nunique() <= 1:\n",
    "        del_col.append(i)\n",
    "\n",
    "df.drop(columns = del_col, inplace=True)"
   ]
  },
  {
   "cell_type": "code",
   "execution_count": 16,
   "metadata": {},
   "outputs": [],
   "source": [
    "df = df.dropna(axis = 0)"
   ]
  },
  {
   "cell_type": "markdown",
   "metadata": {},
   "source": [
    "### Modeling"
   ]
  },
  {
   "cell_type": "code",
   "execution_count": 140,
   "metadata": {},
   "outputs": [
    {
     "data": {
      "text/plain": [
       "1    1012\n",
       "Name: is_open, dtype: int64"
      ]
     },
     "execution_count": 140,
     "metadata": {},
     "output_type": "execute_result"
    }
   ],
   "source": [
    "test_set = df[(df.latest_review_year == 2022) & (df.is_open == 1)]\n",
    "test_set.is_open.value_counts()"
   ]
  },
  {
   "cell_type": "code",
   "execution_count": 141,
   "metadata": {},
   "outputs": [
    {
     "data": {
      "text/plain": [
       "1    4274\n",
       "0    2610\n",
       "Name: is_open, dtype: int64"
      ]
     },
     "execution_count": 141,
     "metadata": {},
     "output_type": "execute_result"
    }
   ],
   "source": [
    "training_set = df.drop(df[df.latest_review_year == 2022].index)\n",
    "training_set.is_open.value_counts()"
   ]
  },
  {
   "cell_type": "code",
   "execution_count": 142,
   "metadata": {},
   "outputs": [],
   "source": [
    "# prepare data for modeling\n",
    "X = training_set.drop(columns=['is_open', 'latest_review_year'])\n",
    "y = training_set['is_open']"
   ]
  },
  {
   "cell_type": "code",
   "execution_count": 143,
   "metadata": {},
   "outputs": [
    {
     "name": "stdout",
     "output_type": "stream",
     "text": [
      "LogisticRegression() average recall score: 0.7512\n",
      "KNeighborsClassifier() average recall score: 0.7334\n",
      "DecisionTreeClassifier() average recall score: 0.7296\n",
      "RandomForestClassifier() average recall score: 0.733\n",
      "GradientBoostingClassifier() average recall score: 0.7374\n",
      "XGBClassifier(base_score=0.5, booster='gbtree', callbacks=None,\n",
      "              colsample_bylevel=1, colsample_bynode=1, colsample_bytree=1,\n",
      "              early_stopping_rounds=None, enable_categorical=False,\n",
      "              eval_metric=None, gamma=0, gpu_id=-1, grow_policy='depthwise',\n",
      "              importance_type=None, interaction_constraints='',\n",
      "              learning_rate=0.300000012, max_bin=256, max_cat_to_onehot=4,\n",
      "              max_delta_step=0, max_depth=6, max_leaves=0, min_child_weight=1,\n",
      "              missing=nan, monotone_constraints='()', n_estimators=100,\n",
      "              n_jobs=0, num_parallel_tree=1, predictor='auto', random_state=0,\n",
      "              reg_alpha=0, reg_lambda=1, ...) average recall score: 0.7429\n"
     ]
    }
   ],
   "source": [
    "models = [LogisticRegression(),\n",
    "          KNeighborsClassifier(),\n",
    "          DecisionTreeClassifier(),\n",
    "          RandomForestClassifier(),\n",
    "          GradientBoostingClassifier(),\n",
    "          xgb.XGBClassifier()]\n",
    "\n",
    "scores = []\n",
    "seed = [0, 123, 456, 789, 519]\n",
    "for ml in models:\n",
    "    for i in range(5):\n",
    "        X_train, X_test, y_train, y_test = train_test_split(X, y, test_size = .2, random_state=seed[i])\n",
    "        scaler = preprocessing.MinMaxScaler()\n",
    "        X_train = scaler.fit_transform(X_train)\n",
    "        X_test = scaler.transform(X_test)\n",
    "        ml.fit(X_train, y_train)\n",
    "        y_pred = ml.predict(X_test)\n",
    "        scores.append(recall_score(y_pred, y_test))\n",
    "    print(ml, 'average recall score:', round(sum(scores)/len(scores), 4))"
   ]
  },
  {
   "attachments": {},
   "cell_type": "markdown",
   "metadata": {},
   "source": [
    "### hyperparameter tuning (LR)"
   ]
  },
  {
   "cell_type": "code",
   "execution_count": 144,
   "metadata": {},
   "outputs": [],
   "source": [
    "X_train, X_test, y_train, y_test = train_test_split(X, y, test_size = .2, random_state=0)"
   ]
  },
  {
   "cell_type": "code",
   "execution_count": 157,
   "metadata": {},
   "outputs": [
    {
     "data": {
      "text/plain": [
       "{'C': 0.1, 'penalty': 'l2', 'solver': 'newton-cg'}"
      ]
     },
     "execution_count": 157,
     "metadata": {},
     "output_type": "execute_result"
    }
   ],
   "source": [
    "params = {'penalty': ['none', 'l2', 'l1', 'elasticnet'],\n",
    "          'solver': ['newton-cg', 'lbfgs', 'liblinear', 'sag', 'saga'],\n",
    "          'C': [0.01, 0.1, 1.0, 10, 100]}\n",
    "\n",
    "model = LogisticRegression()\n",
    "clf = GridSearchCV(model, params, n_jobs=5, cv=5, scoring='accuracy')\n",
    "clf.fit(X_train, y_train)\n",
    "clf.best_params_"
   ]
  },
  {
   "cell_type": "code",
   "execution_count": 160,
   "metadata": {},
   "outputs": [
    {
     "name": "stdout",
     "output_type": "stream",
     "text": [
      "**Accuracy Score :  0.7255\n",
      "Precision Score :  0.7326\n",
      "Recall Score :  0.8769\n",
      "F1 Score :  0.7983\n"
     ]
    },
    {
     "data": {
      "text/plain": [
       "array([[251, 273],\n",
       "       [105, 748]], dtype=int64)"
      ]
     },
     "execution_count": 160,
     "metadata": {},
     "output_type": "execute_result"
    }
   ],
   "source": [
    "LR_model = LogisticRegression(C=0.1, penalty='l2', solver='newton-cg')\n",
    "LR_model.fit(X_train, y_train)\n",
    "\n",
    "y_pred = LR_model.predict(X_test)\n",
    "\n",
    "print('**Accuracy Score : ', round(accuracy_score(y_test,y_pred), 4))\n",
    "print('Precision Score : ', round(precision_score(y_test,y_pred), 4))\n",
    "print('Recall Score : ', round(recall_score(y_test,y_pred), 4))\n",
    "print('F1 Score : ', round(f1_score(y_test,y_pred), 4))\n",
    "\n",
    "confusion_matrix(y_test, y_pred)"
   ]
  },
  {
   "cell_type": "code",
   "execution_count": 161,
   "metadata": {},
   "outputs": [
    {
     "name": "stdout",
     "output_type": "stream",
     "text": [
      "**Accuracy Score :  0.9239\n",
      "Precision Score :  1.0\n",
      "Recall Score :  0.9239\n",
      "F1 Score :  0.9605\n",
      "[[  0   0]\n",
      " [ 77 935]]\n",
      "              precision    recall  f1-score   support\n",
      "\n",
      "           0       0.00      0.00      0.00         0\n",
      "           1       1.00      0.92      0.96      1012\n",
      "\n",
      "    accuracy                           0.92      1012\n",
      "   macro avg       0.50      0.46      0.48      1012\n",
      "weighted avg       1.00      0.92      0.96      1012\n",
      "\n"
     ]
    }
   ],
   "source": [
    "X_for_sample = test_set.drop(columns=['is_open','latest_review_year'])\n",
    "y_for_sample = test_set['is_open']\n",
    "\n",
    "y_pred_sample = LR_model.predict(X_for_sample)\n",
    "\n",
    "print('**Accuracy Score : ', round(accuracy_score(y_for_sample,y_pred_sample), 4))\n",
    "print('Precision Score : ', round(precision_score(y_for_sample,y_pred_sample), 4))\n",
    "print('Recall Score : ', round(recall_score(y_for_sample,y_pred_sample), 4))\n",
    "print('F1 Score : ', round(f1_score(y_for_sample,y_pred_sample), 4))\n",
    "\n",
    "print(confusion_matrix(y_for_sample,y_pred_sample))\n",
    "\n",
    "print(classification_report(y_for_sample, y_pred_sample))"
   ]
  },
  {
   "cell_type": "code",
   "execution_count": 166,
   "metadata": {},
   "outputs": [],
   "source": [
    "importance = LR_model.coef_\n",
    "importance = pd.DataFrame(data={\n",
    "    'Attribute': X_train.columns,\n",
    "    'Importance': LR_model.coef_[0],\n",
    "    'abs_imp': abs(LR_model.coef_[0])\n",
    "})\n",
    "importance = importance.sort_values(by='abs_imp', ascending=False)"
   ]
  },
  {
   "cell_type": "code",
   "execution_count": 169,
   "metadata": {},
   "outputs": [
    {
     "data": {
      "text/plain": [
       "3                     latitude\n",
       "9             reviews_per_week\n",
       "13         RestaurantsDelivery\n",
       "225            Hotels & Travel\n",
       "357                   Southern\n",
       "4                    longitude\n",
       "11                std_of_stars\n",
       "398                 Vietnamese\n",
       "467                    Chinese\n",
       "199                    Grocery\n",
       "231                     Indian\n",
       "380                       Thai\n",
       "110               Chicken Shop\n",
       "224                     Hotels\n",
       "503                  Fast Food\n",
       "19     RestaurantsReservations\n",
       "640                 Vegetarian\n",
       "26                      Friday\n",
       "375         Tapas/Small Plates\n",
       "184                     French\n",
       "Name: Attribute, dtype: object"
      ]
     },
     "execution_count": 169,
     "metadata": {},
     "output_type": "execute_result"
    }
   ],
   "source": [
    "importance.Attribute.head(20)"
   ]
  },
  {
   "cell_type": "code",
   "execution_count": 170,
   "metadata": {},
   "outputs": [],
   "source": [
    "tmp = importance.head(20)\n",
    "tmp = tmp.sort_values(by='Importance', ascending=False)"
   ]
  },
  {
   "cell_type": "code",
   "execution_count": 178,
   "metadata": {},
   "outputs": [
    {
     "data": {
      "image/png": "[encoded data removed]",
      "text/plain": [
       "<Figure size 640x480 with 1 Axes>"
      ]
     },
     "metadata": {},
     "output_type": "display_data"
    }
   ],
   "source": [
    "plt.barh(tmp['Attribute'], tmp['Importance'])\n",
    "plt.title('Feature importances obtained from coefficients', size=20)\n",
    "plt.yticks(rotation='horizontal')\n",
    "plt.show()"
   ]
  }
 ],
 "metadata": {
  "kernelspec": {
   "display_name": "Python 3",
   "language": "python",
   "name": "python3"
  },
  "language_info": {
   "codemirror_mode": {
    "name": "ipython",
    "version": 3
   },
   "file_extension": ".py",
   "mimetype": "text/x-python",
   "name": "python",
   "nbconvert_exporter": "python",
   "pygments_lexer": "ipython3",
   "version": "3.10.7"
  },
  "orig_nbformat": 4,
  "vscode": {
   "interpreter": {
    "hash": "9cbb33fb0dd98d60d7542c1e0a8ec9389a1bc71302aaca21e62e688716f63114"
   }
  }
 },
 "nbformat": 4,
 "nbformat_minor": 2
}
