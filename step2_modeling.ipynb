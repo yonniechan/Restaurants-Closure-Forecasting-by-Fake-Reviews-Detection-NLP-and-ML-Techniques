{
 "cells": [
  {
   "cell_type": "code",
   "execution_count": 275,
   "metadata": {},
   "outputs": [],
   "source": [
    "import pandas as pd\n",
    "import matplotlib.pyplot as plt\n",
    "import seaborn as sns\n",
    "from sklearn.impute import SimpleImputer\n",
    "from sklearn.model_selection import train_test_split\n",
    "from sklearn.neighbors import KNeighborsClassifier\n",
    "from sklearn.tree import DecisionTreeClassifier\n",
    "from sklearn.ensemble import RandomForestClassifier,GradientBoostingClassifier, StackingClassifier\n",
    "import xgboost as xgb\n",
    "from sklearn.model_selection import GridSearchCV\n",
    "from sklearn.metrics import confusion_matrix, classification_report\n",
    "from sklearn.metrics import accuracy_score, f1_score, recall_score, precision_score\n",
    "from sklearn.metrics import plot_roc_curve\n",
    "from sklearn import preprocessing\n",
    "from sklearn.preprocessing import LabelEncoder"
   ]
  },
  {
   "cell_type": "markdown",
   "metadata": {},
   "source": [
    "### deal with some left over from preprocessing"
   ]
  },
  {
   "cell_type": "code",
   "execution_count": 297,
   "metadata": {},
   "outputs": [
    {
     "name": "stderr",
     "output_type": "stream",
     "text": [
      "/var/folders/ph/709k81096ysfhdprrztggzfr0000gn/T/ipykernel_57649/4094612143.py:1: DtypeWarning: Columns (21,47,51,53,54) have mixed types. Specify dtype option on import or set low_memory=False.\n",
      "  df = pd.read_csv('step2_data/combined.csv', index_col=0)\n"
     ]
    }
   ],
   "source": [
    "df = pd.read_csv('step2_data/combined.csv', index_col=0)"
   ]
  },
  {
   "cell_type": "code",
   "execution_count": 298,
   "metadata": {},
   "outputs": [],
   "source": [
    "df = df[df['RestaurantsPriceRange2'] != 'None']\n",
    "df['RestaurantsPriceRange2'] = df['RestaurantsPriceRange2'].astype(float)\n",
    "df = df.dropna(subset='RestaurantsPriceRange2')\n",
    "df['RestaurantsPriceRange2'] = df['RestaurantsPriceRange2'].astype(int)"
   ]
  },
  {
   "cell_type": "code",
   "execution_count": 299,
   "metadata": {},
   "outputs": [],
   "source": [
    "## True/False/None datatype issue: 'RestaurantsDelivery', 'BusinessAcceptsCreditCards', 'RestaurantsTakeOut', 'RestaurantsReservations', 'RestaurantsGoodForGroups'\n",
    "true_false_col = ['RestaurantsDelivery', 'BusinessAcceptsCreditCards', 'RestaurantsTakeOut', 'RestaurantsReservations', 'RestaurantsGoodForGroups']\n",
    "\n",
    "def tf_issue(col_li, df):\n",
    "\n",
    "    for col in col_li:\n",
    "        df[col] = df[col].astype('|S')\n",
    "        df[col] = df[col].apply(lambda line: b'False' if line == b'nan' else line)\n",
    "        df[col] = df[col].apply(lambda line: b'False' if line == b'None' else line)\n",
    "        df[col] = LabelEncoder().fit_transform(df[col])\n",
    "        df[col] = df[col].astype(int)\n",
    "\n",
    "tf_issue(true_false_col, df)"
   ]
  },
  {
   "cell_type": "code",
   "execution_count": 300,
   "metadata": {},
   "outputs": [],
   "source": [
    "# Weird u in the string\n",
    "weird_u = ['WiFi', 'Alcohol', 'RestaurantsAttire', 'NoiseLevel', 'Smoking']\n",
    "\n",
    "def u_issue(col_li, df):\n",
    "\n",
    "    for col in col_li:\n",
    "        df[col] = df[col].apply(lambda line: 'none' if type(line) == float else (line.split(\"\\'\")[1].lower() if len(line.split(\"\\'\")) == 3 else line.split(\"\\'\")[0].lower()))\n",
    "        df[col] = LabelEncoder().fit_transform(df[col])\n",
    "        df[col] = df[col].astype(int)\n",
    "\n",
    "u_issue(weird_u, df)"
   ]
  },
  {
   "cell_type": "code",
   "execution_count": 301,
   "metadata": {},
   "outputs": [],
   "source": [
    "# AcceptsInsurance, Open24Hours RestaurantsCounterService, has no useful value\n",
    "# DietaryRestrictions have only 5 records\n",
    "drop_col = ['business_id', 'AcceptsInsurance', 'Open24Hours', 'DietaryRestrictions', 'RestaurantsCounterService', 'Caters', 'HasTV', 'GoodForKids', 'DogsAllowed', \n",
    "            'HappyHour', 'WheelchairAccessible', 'OutdoorSeating', 'BikeParking', 'RestaurantsAttire', 'Ambience', 'Smoking', 'Music', 'GoodForDancing', \n",
    "            'BusinessAcceptsBitcoin', 'CoatCheck', 'BestNights', 'Corkage', 'BYOBCorkage', 'BYOB', 'AgesAllowed', 'ByAppointmentOnly', 'RestaurantsTableService',\n",
    "            'DriveThru', 'BusinessParking', 'GoodForMeal']\n",
    "\n",
    "df.drop(columns = drop_col, inplace=True)"
   ]
  },
  {
   "cell_type": "code",
   "execution_count": 302,
   "metadata": {},
   "outputs": [],
   "source": [
    "le = LabelEncoder()\n",
    "df['name'] = le.fit_transform(df['name'])\n",
    "df['city'] = le.fit_transform(df['city'])"
   ]
  },
  {
   "cell_type": "code",
   "execution_count": 304,
   "metadata": {},
   "outputs": [],
   "source": [
    "# delete columns only with one unique values\n",
    "del_col = []\n",
    "\n",
    "for i in df.columns:\n",
    "    if df[i].nunique() <= 1:\n",
    "        del_col.append(i)\n",
    "\n",
    "df.drop(columns = del_col, inplace=True)"
   ]
  },
  {
   "cell_type": "markdown",
   "metadata": {},
   "source": [
    "### Modeling"
   ]
  },
  {
   "cell_type": "code",
   "execution_count": 18,
   "metadata": {},
   "outputs": [],
   "source": [
    "# prepare data for modeling\n",
    "X = df.drop(columns='is_open')\n",
    "y = df['is_open']\n",
    "\n",
    "X_train, X_test, y_train, y_test = train_test_split(X, y, test_size = .2)"
   ]
  },
  {
   "cell_type": "code",
   "execution_count": null,
   "metadata": {},
   "outputs": [],
   "source": [
    "scaler = preprocessing.MinMaxScaler()\n",
    "X_train = scaler.fit_transform(X_train)\n",
    "X_test = scaler.transform(X_test)"
   ]
  },
  {
   "cell_type": "code",
   "execution_count": null,
   "metadata": {},
   "outputs": [],
   "source": [
    "model = xgb.XGBClassifier()"
   ]
  }
 ],
 "metadata": {
  "kernelspec": {
   "display_name": "Python 3.9.12 ('base')",
   "language": "python",
   "name": "python3"
  },
  "language_info": {
   "codemirror_mode": {
    "name": "ipython",
    "version": 3
   },
   "file_extension": ".py",
   "mimetype": "text/x-python",
   "name": "python",
   "nbconvert_exporter": "python",
   "pygments_lexer": "ipython3",
   "version": "3.9.12"
  },
  "orig_nbformat": 4,
  "vscode": {
   "interpreter": {
    "hash": "d7399c04398ef7ffe93a346b34aea79387e9589ac40b89ce439d1cc4615c19a9"
   }
  }
 },
 "nbformat": 4,
 "nbformat_minor": 2
}
